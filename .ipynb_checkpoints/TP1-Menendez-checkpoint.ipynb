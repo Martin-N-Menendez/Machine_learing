{
 "cells": [
  {
   "cell_type": "markdown",
   "metadata": {},
   "source": [
    "<img src=\"./fiuba.jpg\" align=\"right\" width=\"300\" /> \n",
    "#### Machine Learing\n",
    "\n",
    "# Trabajo Práctico 1\n",
    "#### Mg. Ing. Martin Nicolas Menendez\n",
    "***"
   ]
  },
  {
   "cell_type": "markdown",
   "metadata": {},
   "source": [
    "## 1) Calentando motores - Nociones básicas:"
   ]
  },
  {
   "cell_type": "markdown",
   "metadata": {},
   "source": [
    "<div class=\"alert alert-block alert-info\">\n",
    "<b>1.1)</b> Diseña un programa que, a partir del valor de los dos lados de un rectángulo (4 y 6 metros, respectivamente), muestre el valor de su perímetro (en metros) y el de su área (en metros cuadrados).\n",
    "              (El perímetro debe darte 20 metros y el área 24 metros cuadrados.)\n",
    "\n",
    "\n",
    "</div>"
   ]
  },
  {
   "cell_type": "code",
   "execution_count": null,
   "metadata": {},
   "outputs": [],
   "source": [
    "def calcular_perimetro(x,y):\n",
    "    return 2*x+2*y"
   ]
  },
  {
   "cell_type": "code",
   "execution_count": null,
   "metadata": {},
   "outputs": [],
   "source": [
    "def calcular_area(x,y):\n",
    "    return x*y"
   ]
  },
  {
   "cell_type": "code",
   "execution_count": null,
   "metadata": {
    "scrolled": true
   },
   "outputs": [],
   "source": [
    "lado_a = 4\n",
    "lado_b = 6\n",
    "\n",
    "print('Perimetro : {} m'.format(calcular_perimetro(lado_a,lado_b))) \n",
    "print('Area : {} m^2'.format(calcular_area(lado_a,lado_b)))  "
   ]
  },
  {
   "cell_type": "markdown",
   "metadata": {},
   "source": [
    "<div class=\"alert alert-block alert-info\">\n",
    "<b>1.2)</b> Haz  un  programa  que  pida  al  usuario  una  cantidad  de  euros,  una  tasa  de     interés  y  un  número  de  años.  Muestra por pantalla en cuánto se habrá convertido el capital inicial transcurridos esos años si cada año se aplica la tasa de interés introducida.\n",
    "\n",
    "</div>"
   ]
  },
  {
   "cell_type": "markdown",
   "metadata": {},
   "source": [
    "<div class=\"alert alert-block alert-success\">\n",
    "\n",
    "Recuerda que un capital de C euros a un interés del x por cien durante n años se     convierten en C   (1 + x/100)n  euros. \n",
    "\n",
    "(Prueba tu programa sabiendo que una cantidad de 10 000 EUR al 4.5% de interés anual se convierte en 24 117.14 EUR al cabo de 20 años.)\n",
    "\n",
    "</div>"
   ]
  },
  {
   "cell_type": "code",
   "execution_count": null,
   "metadata": {},
   "outputs": [],
   "source": [
    "def calcular_interes(dinero,interes,plazo):\n",
    "    return round(dinero*(1+interes/100)**plazo,2)"
   ]
  },
  {
   "cell_type": "code",
   "execution_count": null,
   "metadata": {},
   "outputs": [],
   "source": [
    "try:    \n",
    "    dinero = int(input(\"Ingrese cantidad de dinero: \"))   \n",
    "except:\n",
    "    print(\"Eso no era un entero\")\n",
    "    \n",
    "try:    \n",
    "    interes = float(input(\"Ingrese una tasa de interes: \"))    \n",
    "except:\n",
    "    print(\"Eso no era un flotante\")\n",
    "    \n",
    "try:    \n",
    "    plazo = int(input(\"Ingrese la cantidad de años: \"))    \n",
    "except:\n",
    "    print(\"Eso no era un entero\")\n",
    "\n",
    "    \n",
    "print('Pasados {} años, los {} euros al {}% seran: {} euros'.format(plazo,dinero,interes,calcular_interes(dinero,interes,plazo)))"
   ]
  },
  {
   "cell_type": "markdown",
   "metadata": {},
   "source": [
    "<div class=\"alert alert-block alert-info\">\n",
    "<b>1.3)</b> Un programador propone el siguiente programa para resolver la ecuación de primer grado:\n",
    "\n",
    "\n",
    "    a = float (raw_input (’Valor.de.a:.’))\n",
    "    b  =  float (raw_input (’Valor.de.b:.’))\n",
    "    a * x + b = 0\n",
    "\n",
    "    print ’Solucion:.’, x\n",
    "\n",
    "</div>"
   ]
  },
  {
   "cell_type": "markdown",
   "metadata": {},
   "source": [
    "<div class=\"alert alert-block alert-success\">\n",
    "\n",
    "¿Es correcto este programa? Si no, explique por qué no está correcto.\n",
    "\n",
    "</div>"
   ]
  },
  {
   "cell_type": "markdown",
   "metadata": {},
   "source": [
    "'x' no tiene un valor definido.\n",
    "\n",
    "Ademas,si 'a' o 'b' no fuesen flotantes, el programa da error."
   ]
  },
  {
   "cell_type": "markdown",
   "metadata": {},
   "source": [
    "<div class=\"alert alert-block alert-info\">\n",
    "<b>1.4)</b>  Diseña  un  programa  que  lea  un  número  flotante  por  teclado  y  muestre  por  pantalla  el  mensaje  ‹ El  número  es negativo.›  sólo si el número es menor que cero.\n",
    "\n",
    "\n",
    "</div>"
   ]
  },
  {
   "cell_type": "code",
   "execution_count": null,
   "metadata": {},
   "outputs": [],
   "source": [
    "def detectar_negativo(x):\n",
    "    return True if (x < 0) else False"
   ]
  },
  {
   "cell_type": "code",
   "execution_count": null,
   "metadata": {},
   "outputs": [],
   "source": [
    "try:    \n",
    "    flotante = float(input(\"Ingrese un flotante: \"))    \n",
    "except:\n",
    "    print(\"Eso no era un flotante\")\n",
    "    \n",
    "if(detectar_negativo(flotante)):\n",
    "    print(\"El numero es negativo\")"
   ]
  },
  {
   "cell_type": "markdown",
   "metadata": {},
   "source": [
    "<div class=\"alert alert-block alert-info\">\n",
    "<b>1.5)</b>  Diseña  un  programa  que  lea  la  edad  de  dos  personas  y  diga  quién  es  más  joven,  la  primera  o  la  segunda.  Ten  en cuenta que ambas pueden tener la misma edad. En tal caso, hazlo saber con un mensaje adecuado.\n",
    "\n",
    "\n",
    "\n",
    "</div>"
   ]
  },
  {
   "cell_type": "code",
   "execution_count": null,
   "metadata": {},
   "outputs": [],
   "source": [
    "def comparar_edades(a,b):\n",
    "    if a > b:\n",
    "        print(\"A es mayor que B\")\n",
    "    else:\n",
    "        if a == b:\n",
    "            print(\"A y B tienen la misma edad\")\n",
    "        else:\n",
    "            print(\"B es mayor que A\")"
   ]
  },
  {
   "cell_type": "code",
   "execution_count": null,
   "metadata": {
    "scrolled": true
   },
   "outputs": [],
   "source": [
    "try:    \n",
    "    edad_a = int(input(\"Ingrese edad de 'a': \"))    \n",
    "except:\n",
    "    print(\"Eso no era un entero\")\n",
    "    \n",
    "try:    \n",
    "    edad_b = int(input(\"Ingrese edad de 'b': \"))    \n",
    "except:\n",
    "    print(\"Eso no era un entero\")\n",
    "\n",
    "if (type(edad_a) == int and type(edad_b) == int):    \n",
    "    comparar_edades(edad_a,edad_b)    "
   ]
  },
  {
   "cell_type": "markdown",
   "metadata": {},
   "source": [
    "<div class=\"alert alert-block alert-info\">\n",
    "<b>1.6)</b> Diseña  un  programa  que  lea  un  carácter  de  teclado  y  muestre  por  pantalla  el  mensaje  ‹ Es  paréntesis›  sólo  si  el carácter leído es un paréntesis abierto o cerrado.\n",
    "\n",
    "\n",
    "</div>"
   ]
  },
  {
   "cell_type": "code",
   "execution_count": null,
   "metadata": {},
   "outputs": [],
   "source": [
    "def detectar(caracter):\n",
    "    \n",
    "    if caracter == '(' or caracter == ')':\n",
    "        print(\"Es parentesis\")"
   ]
  },
  {
   "cell_type": "code",
   "execution_count": null,
   "metadata": {},
   "outputs": [],
   "source": [
    "caracter = input(\"Ingrese un caracter: \")\n",
    "    \n",
    "detectar(caracter)    "
   ]
  },
  {
   "cell_type": "markdown",
   "metadata": {},
   "source": [
    "<div class=\"alert alert-block alert-info\">\n",
    "<b>1.7)</b> Diseña un programa que, dados cinco números enteros, determine cuál de los cuatro últimos números es más cercano al  primero.  (Por  ejemplo,  si  el  usuario  introduce  los  números  2,  6,  4,  1  y  10,  el  programa  responderá  que  el  número  más cercano al 2 es el 1.)\n",
    "\n",
    "\n",
    "\n",
    "</div>"
   ]
  },
  {
   "cell_type": "code",
   "execution_count": null,
   "metadata": {},
   "outputs": [],
   "source": [
    "def leer_entero():\n",
    "    \n",
    "    valor = ''\n",
    "    \n",
    "    while(valor == ''):\n",
    "        try:    \n",
    "            valor = int(input(\"Ingrese un entero: \"))  \n",
    "            return valor\n",
    "        except:\n",
    "            print(\"Eso no era un entero\")   \n",
    "    "
   ]
  },
  {
   "cell_type": "code",
   "execution_count": null,
   "metadata": {},
   "outputs": [],
   "source": [
    "def buscar_cercano(lista):\n",
    "    \n",
    "    elemento = lista[0]\n",
    "    distancia = elemento\n",
    "    candidato = 0\n",
    "    \n",
    "    for i in lista[1:]:\n",
    "        if (abs(i-elemento) <= distancia):\n",
    "            candidato = i\n",
    "    \n",
    "    return candidato"
   ]
  },
  {
   "cell_type": "code",
   "execution_count": null,
   "metadata": {},
   "outputs": [],
   "source": [
    "lista = []\n",
    "\n",
    "while(len(lista) < 5):\n",
    "    lista.append(leer_entero())\n",
    "\n",
    "\n",
    "print('El mas cercano a {} en {} es {}'.format(lista[0],lista,buscar_cercano(lista)\n",
    "))"
   ]
  },
  {
   "cell_type": "markdown",
   "metadata": {},
   "source": [
    "<div class=\"alert alert-block alert-info\">\n",
    "<b>1.8)</b> Escribir un programa que, dado un número de DNI, retorne True si el número es válido y False si no lo es. Para que un número de DNI sea válido debe tener entre 7 y 8 dígitos.\n",
    "\n",
    "\n",
    "\n",
    "</div>"
   ]
  },
  {
   "cell_type": "code",
   "execution_count": null,
   "metadata": {},
   "outputs": [],
   "source": [
    "def leer_entero():\n",
    "    \n",
    "    valor = ''\n",
    "    \n",
    "    while(valor == ''):\n",
    "        try:    \n",
    "            valor = int(input(\"Ingrese un entero: \"))  \n",
    "            return valor\n",
    "        except:\n",
    "            print(\"Eso no era un entero\")   "
   ]
  },
  {
   "cell_type": "code",
   "execution_count": null,
   "metadata": {},
   "outputs": [],
   "source": [
    "def contar_digitos(numero):\n",
    "    \n",
    "    base = 10\n",
    "    digitos = 0\n",
    "    \n",
    "    while ( numero > 0 ):\n",
    "        numero = numero // base\n",
    "        digitos = digitos + 1\n",
    "        \n",
    "    return digitos    "
   ]
  },
  {
   "cell_type": "code",
   "execution_count": null,
   "metadata": {},
   "outputs": [],
   "source": [
    "def es_DNI(numero):\n",
    "    \n",
    "    n = contar_digitos(numero)\n",
    "    \n",
    "    if  9 > n > 6:\n",
    "        print(\"Es un DNI\")\n",
    "        return True\n",
    "    else:\n",
    "        print(\"NO es un DNI\")\n",
    "        return False\n",
    "       "
   ]
  },
  {
   "cell_type": "code",
   "execution_count": null,
   "metadata": {
    "scrolled": true
   },
   "outputs": [],
   "source": [
    "es_DNI(leer_entero())"
   ]
  },
  {
   "cell_type": "markdown",
   "metadata": {},
   "source": [
    "<div class=\"alert alert-block alert-info\">\n",
    "<b>1.9)</b> Diseña una solución que tome como argumento dos números y devuelva el mayor de ellos. (No se permite utilizar la  función max() que Python trae incorporada).\n",
    "\n",
    "\n",
    "</div>"
   ]
  },
  {
   "cell_type": "code",
   "execution_count": null,
   "metadata": {},
   "outputs": [],
   "source": [
    "def buscar_max_2(a,b):\n",
    "    if a > b:\n",
    "        return a\n",
    "    else:\n",
    "        return b\n",
    "    "
   ]
  },
  {
   "cell_type": "code",
   "execution_count": null,
   "metadata": {},
   "outputs": [],
   "source": [
    "buscar_max_2(5,9)"
   ]
  },
  {
   "cell_type": "markdown",
   "metadata": {},
   "source": [
    "<div class=\"alert alert-block alert-info\">\n",
    "<b>1.10)</b> Diseña una solución , que tome tres números como argumentos y devuelva el mayor de ellos. (ARE U KIDDING ME?)\n",
    "\n",
    "\n",
    "</div>"
   ]
  },
  {
   "cell_type": "code",
   "execution_count": null,
   "metadata": {},
   "outputs": [],
   "source": [
    "def buscar_max_3(a,b,c):\n",
    "    \n",
    "    maximo = a\n",
    "    \n",
    "    if b > maximo:\n",
    "        maximo = b\n",
    "    if c > maximo:\n",
    "        maximo = c\n",
    "        \n",
    "    return maximo"
   ]
  },
  {
   "cell_type": "code",
   "execution_count": null,
   "metadata": {},
   "outputs": [],
   "source": [
    "buscar_max_3(1,14,3)  "
   ]
  },
  {
   "cell_type": "markdown",
   "metadata": {},
   "source": [
    "<div class=\"alert alert-block alert-info\">\n",
    "<b>1.11)</b> Definir un programa que calcule la longitud de una lista o una cadena dada. (No se permite utilizar la  función len() que Python trae incorporada).\n",
    "\n",
    "\n",
    "\n",
    "</div>"
   ]
  },
  {
   "cell_type": "code",
   "execution_count": null,
   "metadata": {},
   "outputs": [],
   "source": [
    "def len_trucha(lista):\n",
    "    \n",
    "    contador = 0\n",
    "    \n",
    "    for i in lista:\n",
    "        contador += 1\n",
    "    \n",
    "    return contador"
   ]
  },
  {
   "cell_type": "code",
   "execution_count": null,
   "metadata": {},
   "outputs": [],
   "source": [
    "lista = [1,2,3,4,5,6,7,8]\n",
    "\n",
    "len_trucha(lista)    "
   ]
  },
  {
   "cell_type": "markdown",
   "metadata": {},
   "source": [
    "## 2) Funciones y Manejo de Estructuras de Datos"
   ]
  },
  {
   "cell_type": "markdown",
   "metadata": {},
   "source": [
    "<div class=\"alert alert-block alert-info\">\n",
    "<b>2.1)</b> Escribir un programa que pida números al usuario, mostrar el factorial de cada uno y, al finalizar, la cantidad total de números leídos en total. Utilizar una o más funciones, según sea necesario.\n",
    "</div>"
   ]
  },
  {
   "cell_type": "code",
   "execution_count": 1,
   "metadata": {},
   "outputs": [],
   "source": [
    "def leer_entero():\n",
    "    \n",
    "    valor = ''\n",
    "    \n",
    "    while(valor == ''):\n",
    "        try:    \n",
    "            valor = int(input(\"Ingrese un entero positivo: \"))  \n",
    "            return valor\n",
    "        except:\n",
    "            print(\"Eso no era un entero\")   "
   ]
  },
  {
   "cell_type": "code",
   "execution_count": 2,
   "metadata": {},
   "outputs": [],
   "source": [
    "def calcular_factorial(entero):\n",
    "    \n",
    "    factorial = 1\n",
    "    \n",
    "    while ( entero > 0 ):\n",
    "        factorial *= entero\n",
    "        entero -= 1\n",
    "        \n",
    "    print(\"Factorial: \",factorial)"
   ]
  },
  {
   "cell_type": "code",
   "execution_count": 4,
   "metadata": {
    "scrolled": false
   },
   "outputs": [
    {
     "name": "stdout",
     "output_type": "stream",
     "text": [
      "Ingrese un entero positivo: 1\n",
      "Factorial:  1\n",
      "Ingrese un entero positivo: 2\n",
      "Factorial:  2\n",
      "Ingrese un entero positivo: 3\n",
      "Factorial:  6\n",
      "Ingrese un entero positivo: 4\n",
      "Factorial:  24\n",
      "Ingrese un entero positivo: 5\n",
      "Factorial:  120\n",
      "Ingrese un entero positivo: 6\n",
      "Factorial:  720\n",
      "Ingrese un entero positivo: 7\n",
      "Factorial:  5040\n",
      "Ingrese un entero positivo: 8\n",
      "Factorial:  40320\n",
      "Ingrese un entero positivo: 0\n",
      "leidos:  8\n"
     ]
    }
   ],
   "source": [
    "n = 0\n",
    "\n",
    "x = leer_entero()\n",
    "\n",
    "while (x > 0):\n",
    "    n += 1\n",
    "    calcular_factorial(x) \n",
    "    x = leer_entero()\n",
    "    \n",
    "print('leidos: ',n)"
   ]
  },
  {
   "cell_type": "markdown",
   "metadata": {},
   "source": [
    "<div class=\"alert alert-block alert-info\">\n",
    "<b>2.2)</b> Escribir un programa que pida números positivos al usuario. Mostrar el número cuya sumatoria de dígitos fue mayor y la cantidad de números cuya sumatoria de dígitos fue menor que 10. Utilizar una o más funciones, según sea necesario.\n",
    "\n",
    "</div>"
   ]
  },
  {
   "cell_type": "code",
   "execution_count": 14,
   "metadata": {},
   "outputs": [],
   "source": [
    "def leer_entero():\n",
    "    \n",
    "    valor = ''\n",
    "    \n",
    "    while(valor == '' or valor < 0):\n",
    "        try:    \n",
    "            valor = int(input(\"Ingrese un numero positivo: \")) \n",
    "            if valor > 0:\n",
    "                return valor\n",
    "            else:\n",
    "                print(\"Eso no era positivo\")\n",
    "        except:\n",
    "            print(\"Eso no era un entero\")   "
   ]
  },
  {
   "cell_type": "code",
   "execution_count": 16,
   "metadata": {},
   "outputs": [],
   "source": [
    "def contar_digitos(numero):\n",
    "    \n",
    "    base = 10\n",
    "    digitos = 0\n",
    "    \n",
    "    while ( numero > 0 ):\n",
    "        numero = numero // base\n",
    "        digitos = digitos + 1\n",
    "        \n",
    "    return digitos    "
   ]
  },
  {
   "cell_type": "code",
   "execution_count": 28,
   "metadata": {},
   "outputs": [],
   "source": [
    "def sumatoria(numero):\n",
    "    \n",
    "    n = contar_digitos(numero)\n",
    "\n",
    "    digitos = []  \n",
    "    base = 10\n",
    "    \n",
    "    while ( numero > 0 ):\n",
    "        digitos.append(numero % base)\n",
    "        numero = numero // base\n",
    "    \n",
    "    return sum(digitos)"
   ]
  },
  {
   "cell_type": "code",
   "execution_count": 35,
   "metadata": {},
   "outputs": [],
   "source": [
    "def sumatoria_lista(lista):\n",
    "    \n",
    "    nueva_lista = []\n",
    "    \n",
    "    for i in lista:\n",
    "        nueva_lista.append(sumatoria(i))\n",
    "    \n",
    "    return nueva_lista"
   ]
  },
  {
   "cell_type": "code",
   "execution_count": null,
   "metadata": {},
   "outputs": [],
   "source": []
  },
  {
   "cell_type": "code",
   "execution_count": 39,
   "metadata": {},
   "outputs": [
    {
     "name": "stdout",
     "output_type": "stream",
     "text": [
      "Ingrese un numero positivo: 1\n",
      "Ingrese un numero positivo: 2\n",
      "Ingrese un numero positivo: 34\n",
      "Ingrese un numero positivo: 55\n",
      "Ingrese un numero positivo: 231\n",
      "[1, 2, 34, 55, 231]\n",
      "[1, 2, 7, 10, 6]\n",
      "El valor en [1, 2, 34, 55, 231] cuyos digitos son maximos es 55\n"
     ]
    }
   ],
   "source": [
    "lista = []\n",
    "\n",
    "while(len(lista) < 5):\n",
    "    lista.append(leer_entero())\n",
    "\n",
    "nueva_lista = sumatoria_lista(lista)\n",
    "\n",
    "print(\"Lista: \",lista)\n",
    "print(\"Sumados: \",nueva_lista)\n",
    "\n",
    "print('El valor en {} cuyos digitos son maximos es {}'.format(lista,lista[nueva_lista.index(max(nueva_lista))]))\n"
   ]
  },
  {
   "cell_type": "markdown",
   "metadata": {},
   "source": [
    "<div class=\"alert alert-block alert-info\">\n",
    "<b>2.3)</b> Sin ejecutar el siguiente programa, determinar cuál es la salida en pantalla si se ingresan los valores x=6, y=7:\n",
    "</div>"
   ]
  },
  {
   "cell_type": "markdown",
   "metadata": {},
   "source": [
    "CUAL PROGRAMA!?"
   ]
  },
  {
   "cell_type": "markdown",
   "metadata": {},
   "source": [
    "<div class=\"alert alert-block alert-info\">\n",
    "<b>2.4)</b>  El siguiente programa debería imprimir el número 2 si se le ingresan como valores x=5, y=1 pero en su lugar imprime 5. ¿Qué hay que corregir?\n",
    "\n",
    "</div>"
   ]
  },
  {
   "cell_type": "markdown",
   "metadata": {},
   "source": [
    "La consigna ... porque no hay un \"siguiente programa\" jaja"
   ]
  },
  {
   "cell_type": "markdown",
   "metadata": {},
   "source": [
    "<div class=\"alert alert-block alert-info\">\n",
    "<b>2.5)</b>  Escribir la función título(), la cual recibe un string y lo retorna convirtiendo la primera letra de cada palabra a mayúscula y las demás letras a minúscula, dejando inalterados los demás caracteres. Precondición: el separador de palabras es el espacio: \" \". Agregar tests con suficientes casos de prueba para validar que la función retorna el valor esperado ante distintos argumentos.\n",
    "\n",
    "</div>"
   ]
  },
  {
   "cell_type": "code",
   "execution_count": null,
   "metadata": {
    "scrolled": true
   },
   "outputs": [],
   "source": [
    "def prueba(x=\"hola\"):\n",
    "    print(x)\n",
    "\n",
    "    \n",
    "prueba()    "
   ]
  },
  {
   "cell_type": "markdown",
   "metadata": {},
   "source": [
    "<div class=\"alert alert-block alert-info\">\n",
    "<b>2.6)</b> Definir una función superposicion() que tome dos listas y devuelva True si tienen al menos 1 miembro en común o devuelva False de lo contrario. Escribir la función usando el bucle for anidado. \n",
    "\n",
    "\n",
    "</div>"
   ]
  },
  {
   "cell_type": "code",
   "execution_count": null,
   "metadata": {
    "scrolled": true
   },
   "outputs": [],
   "source": [
    "def prueba(x=\"hola\"):\n",
    "    print(x)\n",
    "\n",
    "    \n",
    "prueba()    "
   ]
  },
  {
   "cell_type": "markdown",
   "metadata": {},
   "source": [
    "<div class=\"alert alert-block alert-info\">\n",
    "<b>2.7)</b> Diseña un programa que, dados cinco números enteros, determine cuál de los cuatro últimos números es más cercano al  primero.  (Por  ejemplo,  si  el  usuario  introduce  los  números  2,  6,  4,  1  y  10,  el  programa  responderá  que  el  número  más cercano al 2 es el 1.)\n",
    "\n",
    "</div>"
   ]
  },
  {
   "cell_type": "markdown",
   "metadata": {},
   "source": [
    "<div class=\"alert alert-block alert-success\">\n",
    "Precondición: el formato del nombre de los socios será: nombre apellido. Podría ingresarse más de un nombre, en cuyo caso será: nombre1 nombre2 apellido. Si un socio tuviera más de un apellido, el usuario sólo ingresará uno.\n",
    "\n",
    "Se debe validar que el número de DNI tenga 7 u 8 dígitos. En caso contrario, el programa debe dejar al usuario en un bucle hasta que ingrese un DNI correcto.\n",
    "\n",
    "Por cada socio se debe imprimir su identificador único, el cual estará formado por: el primer nombre, la cantidad de letras del apellido y los primeros 3 dígitos de su DNI. Ejemplo:\n",
    "             \n",
    "    Nombre: Alba María Linares\n",
    "    DNI: 25834910\n",
    "    Alba7258\n",
    "</div>    "
   ]
  },
  {
   "cell_type": "code",
   "execution_count": null,
   "metadata": {},
   "outputs": [],
   "source": [
    "def prueba(x=\"hola\"):\n",
    "    print(x)\n",
    "\n",
    "    \n",
    "prueba()    "
   ]
  },
  {
   "cell_type": "markdown",
   "metadata": {},
   "source": [
    "## 3) Manejo de Archivos"
   ]
  },
  {
   "cell_type": "markdown",
   "metadata": {},
   "source": [
    "<div class=\"alert alert-block alert-info\">\n",
    "<b>3.1)</b> Crear un script llamado personas.py que lea los datos de un fichero de texto, que transforme cada fila en un diccionario y lo añada a una lista llamada personas. Luego, recorre las personas de la lista y para cada una muestra de forma amigable todos sus campos.\n",
    "El fichero de texto se denominará personas.txt y tendrá el siguiente contenido en texto plano (créalo previamente):\n",
    "\n",
    "</div>"
   ]
  },
  {
   "cell_type": "markdown",
   "metadata": {},
   "source": [
    "<div class=\"alert alert-block alert-success\">\n",
    "     \n",
    "     1;Carlos;Pérez;05/01/1989\n",
    "     2;Manuel;Heredia;26/12/1973\n",
    "     3;Rosa;Campos;12/06/1961\n",
    "     4;David;García;25/07/2006\n",
    "            \n",
    "Los campos del diccionario serán por orden: id, nombre, apellido y nacimiento.\n",
    "</div>"
   ]
  },
  {
   "cell_type": "code",
   "execution_count": null,
   "metadata": {
    "scrolled": true
   },
   "outputs": [],
   "source": [
    "def prueba(x=\"hola\"):\n",
    "    print(x)\n",
    "\n",
    "    \n",
    "prueba()    "
   ]
  },
  {
   "cell_type": "markdown",
   "metadata": {},
   "source": [
    "<div class=\"alert alert-block alert-info\">\n",
    "<b>3.2)</b> Crear un script llamado contador.py que realice varias tareas sobre un fichero llamado contador.txt que almacenará un contador de visitas (será un número):\n",
    "    \n",
    "- Nuestro script trabajará sobre el fichero contador.txt. Si el fichero no existe o está vacío lo crearemos con el número 0. Si existe simplemente leeremos el valor del contador.\n",
    "- Luego a partir de un argumento:\n",
    "    - Si se envía el argumento inc, se incrementará el contador en uno y se mostrará por pantalla.\n",
    "    - Si se envía el argumento dec, se decrementará el contador en uno y se mostrará por pantalla.\n",
    "    - Si no se envía ningún argumento (o algo que no sea inc o dec), se mostrará el valor del contador por pantalla.\n",
    "- Finalmente guardará de nuevo el valor del contador de nuevo en el fichero.\n",
    "- Utiliza excepciones si crees que es necesario, puedes mostrar el mensaje: Error: Fichero corrupto.\n",
    "\n",
    "</div>"
   ]
  },
  {
   "cell_type": "markdown",
   "metadata": {},
   "source": [
    "<div class=\"alert alert-block alert-success\">\n",
    "     \n",
    "Links Útiles: \n",
    "http://informatica-ism.wdfiles.com/local--files/inf3/U3-Archivos-2018.pdf\n",
    "\n",
    "\n",
    "</div>"
   ]
  },
  {
   "cell_type": "code",
   "execution_count": null,
   "metadata": {},
   "outputs": [],
   "source": [
    "def prueba(x=\"hola\"):\n",
    "    print(x)\n",
    "\n",
    "    \n",
    "prueba()    "
   ]
  },
  {
   "cell_type": "markdown",
   "metadata": {},
   "source": [
    "## 4) Funciones Lambda"
   ]
  },
  {
   "cell_type": "markdown",
   "metadata": {},
   "source": [
    "<div class=\"alert alert-block alert-info\">\n",
    "<b>4.1)</b> Calcular el doble de un número utilizando al menos 2 implementaciones, una con funciones y otra con expresiones lambda. Justificar diferencias entre ambas soluciones - Pros y Contras.\n",
    "\n",
    "\n",
    "</div>"
   ]
  },
  {
   "cell_type": "code",
   "execution_count": null,
   "metadata": {
    "scrolled": true
   },
   "outputs": [],
   "source": [
    "def prueba(x=\"hola\"):\n",
    "    print(x)\n",
    "\n",
    "    \n",
    "prueba()    "
   ]
  },
  {
   "cell_type": "markdown",
   "metadata": {},
   "source": [
    "<div class=\"alert alert-block alert-info\">\n",
    "<b>4.2)</b> Implementar la función del punto 4.1 usando map()\n",
    "</div>"
   ]
  },
  {
   "cell_type": "markdown",
   "metadata": {},
   "source": [
    "<div class=\"alert alert-block alert-success\">\n",
    "     \n",
    "Ayuda: https://docs.hektorprofe.net/python/funcionalidades-avanzadas/funcion-map/\n",
    "</div>"
   ]
  },
  {
   "cell_type": "code",
   "execution_count": null,
   "metadata": {
    "scrolled": true
   },
   "outputs": [],
   "source": [
    "def prueba(x=\"hola\"):\n",
    "    print(x)\n",
    "\n",
    "    \n",
    "prueba()    "
   ]
  },
  {
   "cell_type": "markdown",
   "metadata": {},
   "source": [
    "<div class=\"alert alert-block alert-info\">\n",
    "<b>4.3)</b> Dada una lista con varias personas, nos gustaría filtrar únicamente las que son menores de edad. (Incorporar el uso de filter()).\n",
    "\n",
    "</div>"
   ]
  },
  {
   "cell_type": "markdown",
   "metadata": {},
   "source": [
    "<div class=\"alert alert-block alert-success\">\n",
    "     \n",
    "Links Útiles: https://www.geeksforgeeks.org/python-lambda-anonymous-functions-filter-map-reduce/\n",
    "\n",
    "</div>"
   ]
  },
  {
   "cell_type": "code",
   "execution_count": null,
   "metadata": {},
   "outputs": [],
   "source": [
    "def prueba(x=\"hola\"):\n",
    "    print(x)\n",
    "\n",
    "    \n",
    "prueba()    "
   ]
  },
  {
   "cell_type": "markdown",
   "metadata": {},
   "source": [
    "## 5) OOP (Programación Orientada a Objetos)"
   ]
  },
  {
   "cell_type": "markdown",
   "metadata": {},
   "source": [
    "<div class=\"alert alert-block alert-info\">\n",
    "<b>5.1)</b> Crea al menos un objeto de cada subclase y añadelos a una lista llamada vehiculos.\n",
    "</div>"
   ]
  },
  {
   "cell_type": "code",
   "execution_count": null,
   "metadata": {
    "scrolled": true
   },
   "outputs": [],
   "source": [
    "def prueba(x=\"hola\"):\n",
    "    print(x)\n",
    "\n",
    "    \n",
    "prueba()    "
   ]
  },
  {
   "cell_type": "markdown",
   "metadata": {},
   "source": [
    "<div class=\"alert alert-block alert-info\">\n",
    "<b>5.2)</b> Realiza una función llamada catalogar() que reciba la lista de vehículos y los recorra mostrando el nombre de su clase y sus atributos.\n",
    "\n",
    "</div>"
   ]
  },
  {
   "cell_type": "code",
   "execution_count": null,
   "metadata": {
    "scrolled": true
   },
   "outputs": [],
   "source": [
    "def prueba(x=\"hola\"):\n",
    "    print(x)\n",
    "\n",
    "    \n",
    "prueba()    "
   ]
  },
  {
   "cell_type": "markdown",
   "metadata": {},
   "source": [
    "<div class=\"alert alert-block alert-info\">\n",
    "<b>5.3)</b> Modifica la función catalogar() para que reciba un argumento optativo ruedas, haciendo que muestre únicamente los que su número de ruedas concuerde con el valor del argumento. \n",
    "</div>"
   ]
  },
  {
   "cell_type": "markdown",
   "metadata": {},
   "source": [
    "     \n",
    "<img src=\"./diagrama.PNG\" align=\"center\" width=\"500\" /> \n"
   ]
  },
  {
   "cell_type": "markdown",
   "metadata": {},
   "source": [
    "<div class=\"alert alert-block alert-success\">\n",
    "También debe mostrar un mensaje \"Se han encontrado {} vehículos con {} ruedas:\" únicamente si se envía el argumento ruedas. Realizar la prueba con 0, 2 y 4 ruedas como valor.\n",
    "</div>\n"
   ]
  },
  {
   "cell_type": "code",
   "execution_count": null,
   "metadata": {},
   "outputs": [],
   "source": [
    "def prueba(x=\"hola\"):\n",
    "    print(x)\n",
    "\n",
    "    \n",
    "prueba()    "
   ]
  },
  {
   "cell_type": "markdown",
   "metadata": {},
   "source": [
    "## 6) Manejo de Errores y Excepciones"
   ]
  },
  {
   "cell_type": "markdown",
   "metadata": {},
   "source": [
    "<div class=\"alert alert-block alert-info\">\n",
    "<b>6.1)</b> Localiza el error en el siguiente bloque de código. Crea una excepción para evitar que el programa se bloquee y además explica en un mensaje al usuario la causa y/o solución:\n",
    "\n",
    "</div>"
   ]
  },
  {
   "cell_type": "markdown",
   "metadata": {},
   "source": [
    "<div class=\"alert alert-block alert-danger\">\n",
    "resultado = 10/0\n",
    "\n",
    "</div>"
   ]
  },
  {
   "cell_type": "code",
   "execution_count": null,
   "metadata": {
    "scrolled": true
   },
   "outputs": [],
   "source": [
    "def prueba(x=\"hola\"):\n",
    "    print(x)\n",
    "\n",
    "    \n",
    "prueba()    "
   ]
  },
  {
   "cell_type": "markdown",
   "metadata": {},
   "source": [
    "<div class=\"alert alert-block alert-info\">\n",
    "<b>6.2)</b> Localiza el error en el siguiente bloque de código. Crea una excepción para evitar que el programa se bloquee y además explica en un mensaje al usuario la causa y/o solución:\n",
    "\n",
    "</div>"
   ]
  },
  {
   "cell_type": "markdown",
   "metadata": {},
   "source": [
    "<div class=\"alert alert-block alert-danger\">\n",
    "    \n",
    "lista = [1, 2, 3, 4, 5]\n",
    "\n",
    "lista[10]\n",
    "\n",
    "</div>"
   ]
  },
  {
   "cell_type": "code",
   "execution_count": null,
   "metadata": {
    "scrolled": true
   },
   "outputs": [],
   "source": [
    "def prueba(x=\"hola\"):\n",
    "    print(x)\n",
    "\n",
    "    \n",
    "prueba()    "
   ]
  },
  {
   "cell_type": "markdown",
   "metadata": {},
   "source": [
    "<div class=\"alert alert-block alert-info\">\n",
    "<b>6.3)</b> Realiza una función llamada agregar una vez(lista, el) que reciba una lista y un elemento. La función debe añadir el elemento al final de la lista con la condición de no repetir ningún elemento. Además si este elemento ya se encuentra en la lista se debe invocar un error de tipo ValueError que debes capturar y mostrar este mensaje en su lugar:\n",
    "\n",
    "</div>"
   ]
  },
  {
   "cell_type": "markdown",
   "metadata": {},
   "source": [
    "<div class=\"alert alert-block alert-danger\">\n",
    "    \n",
    "Error: Imposible añadir elementos duplicados => [elemento].\n",
    "\n",
    "</div>"
   ]
  },
  {
   "cell_type": "markdown",
   "metadata": {},
   "source": [
    "<div class=\"alert alert-block alert-info\">\n",
    "     \n",
    "Cuando tengas la función intenta añadir los siguiente valores a la lista 10, -2, \"Hola\" y luego muestra su contenido.\n",
    "\n",
    "</div>"
   ]
  },
  {
   "cell_type": "markdown",
   "metadata": {},
   "source": [
    "<div class=\"alert alert-block alert-success\">\n",
    "     \n",
    "Ayuda: Gracias a raise podemos lanzar un error manual pasándole el identificador. Luego simplemente podemos añadir un except para tratar esta excepción que hemos lanzado.\n",
    "\n",
    "</div>"
   ]
  },
  {
   "cell_type": "code",
   "execution_count": null,
   "metadata": {},
   "outputs": [],
   "source": [
    "def prueba(x=\"hola\"):\n",
    "    print(x)\n",
    "\n",
    "    \n",
    "prueba()    "
   ]
  },
  {
   "cell_type": "markdown",
   "metadata": {},
   "source": [
    "## 7) Ejercicios Bonus: Algoritmo Luhn"
   ]
  },
  {
   "cell_type": "markdown",
   "metadata": {},
   "source": [
    "<div class=\"alert alert-block alert-info\">\n",
    "<b>7.1)</b> El algoritmo de Luhn es un método creado para la verificación de números de identificación, como los números de las tarjetas de crédito (Visa, MasterCard) o el IMEI de los teléfonos móviles.\n",
    "\n",
    "Diseñar un programa que implemente la lógica del algoritmo anteriormente expuesto.\n",
    "\n",
    "</div>"
   ]
  },
  {
   "cell_type": "code",
   "execution_count": null,
   "metadata": {
    "scrolled": true
   },
   "outputs": [],
   "source": [
    "def prueba(x=\"hola\"):\n",
    "    print(x)\n",
    "\n",
    "    \n",
    "prueba()    "
   ]
  }
 ],
 "metadata": {
  "kernelspec": {
   "display_name": "Python 3",
   "language": "python",
   "name": "python3"
  },
  "language_info": {
   "codemirror_mode": {
    "name": "ipython",
    "version": 3
   },
   "file_extension": ".py",
   "mimetype": "text/x-python",
   "name": "python",
   "nbconvert_exporter": "python",
   "pygments_lexer": "ipython3",
   "version": "3.7.4"
  }
 },
 "nbformat": 4,
 "nbformat_minor": 2
}
