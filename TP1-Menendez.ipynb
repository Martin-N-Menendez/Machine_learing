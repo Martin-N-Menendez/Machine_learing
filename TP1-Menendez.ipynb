{
 "cells": [
  {
   "cell_type": "markdown",
   "metadata": {},
   "source": [
    "<img src=\"./fiuba.jpg\" align=\"right\" width=\"150\" /> \n",
    "#### Machine Learing\n",
    "\n",
    "# Trabajo Práctico 1\n",
    "#### Martin Nicolas Menendez\n",
    "\n",
    "***\n",
    "## 1) Calentando motores - Nociones básicas:\n"
   ]
  },
  {
   "cell_type": "markdown",
   "metadata": {},
   "source": [
    "<div class=\"alert alert-block alert-info\">\n",
    "<b>1.1)</b> Diseña un programa que, a partir del valor de los dos lados de un rectángulo (4 y 6 metros, respectivamente), muestre el valor de su perímetro (en metros) y el de su área (en metros cuadrados).\n",
    "              (El perímetro debe darte 20 metros y el área 24 metros cuadrados.)\n",
    "\n",
    "\n",
    "</div>"
   ]
  },
  {
   "cell_type": "code",
   "execution_count": 2,
   "metadata": {
    "scrolled": true
   },
   "outputs": [
    {
     "name": "stdout",
     "output_type": "stream",
     "text": [
      "hola\n"
     ]
    }
   ],
   "source": [
    "def prueba(x=\"hola\"):\n",
    "    print(x)\n",
    "\n",
    "    \n",
    "prueba()    "
   ]
  },
  {
   "cell_type": "markdown",
   "metadata": {},
   "source": [
    "<div class=\"alert alert-block alert-info\">\n",
    "<b>1.2)</b> Haz  un  programa  que  pida  al  usuario  una  cantidad  de  euros,  una  tasa  de     interés  y  un  número  de  años.  Muestra por pantalla en cuánto se habrá convertido el capital inicial transcurridos esos años si cada año se aplica la tasa de interés introducida.\n",
    "\n",
    "Recuerda que un capital de C euros a un interés del x por cien durante n años se     convierten en C   (1 + x/100)n  euros. \n",
    "\n",
    "(Prueba tu programa sabiendo que una cantidad de 10 000 EUR al 4.5% de interés anual se convierte en 24 117.14 EUR al cabo de 20 años.)\n",
    "\n",
    "\n",
    "\n",
    "</div>"
   ]
  },
  {
   "cell_type": "code",
   "execution_count": 2,
   "metadata": {},
   "outputs": [
    {
     "name": "stdout",
     "output_type": "stream",
     "text": [
      "hola\n"
     ]
    }
   ],
   "source": [
    "def prueba(x=\"hola\"):\n",
    "    print(x)\n",
    "\n",
    "    \n",
    "prueba()    "
   ]
  },
  {
   "cell_type": "markdown",
   "metadata": {},
   "source": [
    "<div class=\"alert alert-block alert-info\">\n",
    "<b>1.3)</b> Un programador propone el siguiente programa para resolver la ecuación de primer grado:\n",
    "\n",
    "\n",
    "    a = float (raw_input (’Valor.de.a:.’))\n",
    "    b  =  float (raw_input (’Valor.de.b:.’))\n",
    "    a * x + b = 0\n",
    "\n",
    "    print ’Solucion:.’, x\n",
    "\n",
    "¿Es correcto este programa? Si no, explique por qué no está correcto.\n",
    "\n",
    "\n",
    "</div>"
   ]
  },
  {
   "cell_type": "code",
   "execution_count": 2,
   "metadata": {},
   "outputs": [
    {
     "name": "stdout",
     "output_type": "stream",
     "text": [
      "hola\n"
     ]
    }
   ],
   "source": [
    "def prueba(x=\"hola\"):\n",
    "    print(x)\n",
    "\n",
    "    \n",
    "prueba()    "
   ]
  },
  {
   "cell_type": "markdown",
   "metadata": {},
   "source": [
    "<div class=\"alert alert-block alert-info\">\n",
    "<b>1.4)</b>  Diseña  un  programa  que  lea  un  número  flotante  por  teclado  y  muestre  por  pantalla  el  mensaje  ‹ El  número  es negativo.›  sólo si el número es menor que cero.\n",
    "\n",
    "\n",
    "</div>"
   ]
  },
  {
   "cell_type": "code",
   "execution_count": 2,
   "metadata": {},
   "outputs": [
    {
     "name": "stdout",
     "output_type": "stream",
     "text": [
      "hola\n"
     ]
    }
   ],
   "source": [
    "def prueba(x=\"hola\"):\n",
    "    print(x)\n",
    "\n",
    "    \n",
    "prueba()    "
   ]
  },
  {
   "cell_type": "markdown",
   "metadata": {},
   "source": [
    "<div class=\"alert alert-block alert-info\">\n",
    "<b>1.5)</b>  Diseña  un  programa  que  lea  la  edad  de  dos  personas  y  diga  quién  es  más  joven,  la  primera  o  la  segunda.  Ten  en cuenta que ambas pueden tener la misma edad. En tal caso, hazlo saber con un mensaje adecuado.\n",
    "\n",
    "\n",
    "\n",
    "</div>"
   ]
  },
  {
   "cell_type": "code",
   "execution_count": 2,
   "metadata": {
    "scrolled": true
   },
   "outputs": [
    {
     "name": "stdout",
     "output_type": "stream",
     "text": [
      "hola\n"
     ]
    }
   ],
   "source": [
    "def prueba(x=\"hola\"):\n",
    "    print(x)\n",
    "\n",
    "    \n",
    "prueba()    "
   ]
  },
  {
   "cell_type": "markdown",
   "metadata": {},
   "source": [
    "<div class=\"alert alert-block alert-info\">\n",
    "<b>1.6)</b> Diseña  un  programa  que  lea  un  carácter  de  teclado  y  muestre  por  pantalla  el  mensaje  ‹ Es  paréntesis›  sólo  si  el carácter leído es un paréntesis abierto o cerrado.\n",
    "\n",
    "\n",
    "</div>"
   ]
  },
  {
   "cell_type": "code",
   "execution_count": 2,
   "metadata": {},
   "outputs": [
    {
     "name": "stdout",
     "output_type": "stream",
     "text": [
      "hola\n"
     ]
    }
   ],
   "source": [
    "def prueba(x=\"hola\"):\n",
    "    print(x)\n",
    "\n",
    "    \n",
    "prueba()    "
   ]
  },
  {
   "cell_type": "markdown",
   "metadata": {},
   "source": [
    "<div class=\"alert alert-block alert-info\">\n",
    "<b>1.7)</b> Diseña un programa que, dados cinco números enteros, determine cuál de los cuatro últimos números es más cercano al  primero.  (Por  ejemplo,  si  el  usuario  introduce  los  números  2,  6,  4,  1  y  10,  el  programa  responderá  que  el  número  más cercano al 2 es el 1.)\n",
    "\n",
    "\n",
    "\n",
    "</div>"
   ]
  },
  {
   "cell_type": "code",
   "execution_count": 2,
   "metadata": {},
   "outputs": [
    {
     "name": "stdout",
     "output_type": "stream",
     "text": [
      "hola\n"
     ]
    }
   ],
   "source": [
    "def prueba(x=\"hola\"):\n",
    "    print(x)\n",
    "\n",
    "    \n",
    "prueba()    "
   ]
  },
  {
   "cell_type": "markdown",
   "metadata": {},
   "source": [
    "<div class=\"alert alert-block alert-info\">\n",
    "<b>1.8)</b> Escribir un programa que, dado un número de DNI, retorne True si el número es válido y False si no lo es. Para que un número de DNI sea válido debe tener entre 7 y 8 dígitos.\n",
    "\n",
    "\n",
    "\n",
    "</div>"
   ]
  },
  {
   "cell_type": "code",
   "execution_count": 2,
   "metadata": {
    "scrolled": true
   },
   "outputs": [
    {
     "name": "stdout",
     "output_type": "stream",
     "text": [
      "hola\n"
     ]
    }
   ],
   "source": [
    "def prueba(x=\"hola\"):\n",
    "    print(x)\n",
    "\n",
    "    \n",
    "prueba()    "
   ]
  },
  {
   "cell_type": "markdown",
   "metadata": {},
   "source": [
    "<div class=\"alert alert-block alert-info\">\n",
    "<b>1.9)</b> Diseña una solución que tome como argumento dos números y devuelva el mayor de ellos. (No se permite utilizar la  función max() que Python trae incorporada).\n",
    "\n",
    "\n",
    "</div>"
   ]
  },
  {
   "cell_type": "code",
   "execution_count": 2,
   "metadata": {},
   "outputs": [
    {
     "name": "stdout",
     "output_type": "stream",
     "text": [
      "hola\n"
     ]
    }
   ],
   "source": [
    "def prueba(x=\"hola\"):\n",
    "    print(x)\n",
    "\n",
    "    \n",
    "prueba()    "
   ]
  },
  {
   "cell_type": "markdown",
   "metadata": {},
   "source": [
    "<div class=\"alert alert-block alert-info\">\n",
    "<b>1.10)</b> Diseña una solución , que tome tres números como argumentos y devuelva el mayor de ellos. (ARE U KIDDING ME?)\n",
    "\n",
    "\n",
    "</div>"
   ]
  },
  {
   "cell_type": "code",
   "execution_count": 2,
   "metadata": {},
   "outputs": [
    {
     "name": "stdout",
     "output_type": "stream",
     "text": [
      "hola\n"
     ]
    }
   ],
   "source": [
    "def prueba(x=\"hola\"):\n",
    "    print(x)\n",
    "\n",
    "    \n",
    "prueba()    "
   ]
  },
  {
   "cell_type": "markdown",
   "metadata": {},
   "source": [
    "<div class=\"alert alert-block alert-info\">\n",
    "<b>1.11)</b> Definir un programa que calcule la longitud de una lista o una cadena dada. (No se permite utilizar la  función len() que Python trae incorporada).\n",
    "\n",
    "\n",
    "\n",
    "</div>"
   ]
  },
  {
   "cell_type": "code",
   "execution_count": 2,
   "metadata": {},
   "outputs": [
    {
     "name": "stdout",
     "output_type": "stream",
     "text": [
      "hola\n"
     ]
    }
   ],
   "source": [
    "def prueba(x=\"hola\"):\n",
    "    print(x)\n",
    "\n",
    "    \n",
    "prueba()    "
   ]
  }
 ],
 "metadata": {
  "kernelspec": {
   "display_name": "Python 3",
   "language": "python",
   "name": "python3"
  },
  "language_info": {
   "codemirror_mode": {
    "name": "ipython",
    "version": 3
   },
   "file_extension": ".py",
   "mimetype": "text/x-python",
   "name": "python",
   "nbconvert_exporter": "python",
   "pygments_lexer": "ipython3",
   "version": "3.7.4"
  }
 },
 "nbformat": 4,
 "nbformat_minor": 2
}
